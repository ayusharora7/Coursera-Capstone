{
 "cells": [
  {
   "cell_type": "code",
   "execution_count": 1,
   "metadata": {},
   "outputs": [],
   "source": [
    "import requests\n",
    "import pandas as pd\n",
    "import numpy as np\n",
    "from bs4 import BeautifulSoup\n",
    "\n",
    "res = requests.get('https://en.wikipedia.org/wiki/List_of_postal_codes_of_Canada:_M')\n",
    "soup = BeautifulSoup(res.text)"
   ]
  },
  {
   "cell_type": "markdown",
   "metadata": {},
   "source": [
    "Data Scraping and putting it in a list called table_data"
   ]
  },
  {
   "cell_type": "code",
   "execution_count": 2,
   "metadata": {
    "scrolled": true
   },
   "outputs": [
    {
     "name": "stdout",
     "output_type": "stream",
     "text": [
      "['M1A', 'Not assigned', 'Not assigned', 'M2A', 'Not assigned', 'Not assigned', 'M3A', 'North York', 'Parkwoods', 'M4A', 'North York', 'Victoria Village', 'M5A', 'Downtown Toronto', 'Harbourfront', 'M6A', 'North York', 'Lawrence Heights', 'M6A', 'North York', 'Lawrence Manor', 'M7A', 'Downtown Toronto', \"Queen's Park\", 'M8A', 'Not assigned', 'Not assigned', 'M9A', \"Queen's Park\", 'Not assigned', 'M1B', 'Scarborough', 'Rouge', 'M1B', 'Scarborough', 'Malvern', 'M2B', 'Not assigned', 'Not assigned', 'M3B', 'North York', 'Don Mills North', 'M4B', 'East York', 'Woodbine Gardens', 'M4B', 'East York', 'Parkview Hill', 'M5B', 'Downtown Toronto', 'Ryerson', 'M5B', 'Downtown Toronto', 'Garden District', 'M6B', 'North York', 'Glencairn', 'M7B', 'Not assigned', 'Not assigned', 'M8B', 'Not assigned', 'Not assigned', 'M9B', 'Etobicoke', 'Cloverdale', 'M9B', 'Etobicoke', 'Islington', 'M9B', 'Etobicoke', 'Martin Grove', 'M9B', 'Etobicoke', 'Princess Gardens', 'M9B', 'Etobicoke', 'West Deane Park', 'M1C', 'Scarborough', 'Highland Creek', 'M1C', 'Scarborough', 'Rouge Hill', 'M1C', 'Scarborough', 'Port Union', 'M2C', 'Not assigned', 'Not assigned', 'M3C', 'North York', 'Flemingdon Park', 'M3C', 'North York', 'Don Mills South', 'M4C', 'East York', 'Woodbine Heights', 'M5C', 'Downtown Toronto', 'St. James Town', 'M6C', 'York', 'Humewood-Cedarvale', 'M7C', 'Not assigned', 'Not assigned', 'M8C', 'Not assigned', 'Not assigned', 'M9C', 'Etobicoke', 'Bloordale Gardens', 'M9C', 'Etobicoke', 'Eringate', 'M9C', 'Etobicoke', 'Markland Wood', 'M9C', 'Etobicoke', 'Old Burnhamthorpe', 'M1E', 'Scarborough', 'Guildwood', 'M1E', 'Scarborough', 'Morningside', 'M1E', 'Scarborough', 'West Hill', 'M2E', 'Not assigned', 'Not assigned', 'M3E', 'Not assigned', 'Not assigned', 'M4E', 'East Toronto', 'The Beaches', 'M5E', 'Downtown Toronto', 'Berczy Park', 'M6E', 'York', 'Caledonia-Fairbanks', 'M7E', 'Not assigned', 'Not assigned', 'M8E', 'Not assigned', 'Not assigned', 'M9E', 'Not assigned', 'Not assigned', 'M1G', 'Scarborough', 'Woburn', 'M2G', 'Not assigned', 'Not assigned', 'M3G', 'Not assigned', 'Not assigned', 'M4G', 'East York', 'Leaside', 'M5G', 'Downtown Toronto', 'Central Bay Street', 'M6G', 'Downtown Toronto', 'Christie', 'M7G', 'Not assigned', 'Not assigned', 'M8G', 'Not assigned', 'Not assigned', 'M9G', 'Not assigned', 'Not assigned', 'M1H', 'Scarborough', 'Cedarbrae', 'M2H', 'North York', 'Hillcrest Village', 'M3H', 'North York', 'Bathurst Manor', 'M3H', 'North York', 'Downsview North', 'M3H', 'North York', 'Wilson Heights', 'M4H', 'East York', 'Thorncliffe Park', 'M5H', 'Downtown Toronto', 'Adelaide', 'M5H', 'Downtown Toronto', 'King', 'M5H', 'Downtown Toronto', 'Richmond', 'M6H', 'West Toronto', 'Dovercourt Village', 'M6H', 'West Toronto', 'Dufferin', 'M7H', 'Not assigned', 'Not assigned', 'M8H', 'Not assigned', 'Not assigned', 'M9H', 'Not assigned', 'Not assigned', 'M1J', 'Scarborough', 'Scarborough Village', 'M2J', 'North York', 'Fairview', 'M2J', 'North York', 'Henry Farm', 'M2J', 'North York', 'Oriole', 'M3J', 'North York', 'Northwood Park', 'M3J', 'North York', 'York University', 'M4J', 'East York', 'East Toronto', 'M5J', 'Downtown Toronto', 'Harbourfront East', 'M5J', 'Downtown Toronto', 'Toronto Islands', 'M5J', 'Downtown Toronto', 'Union Station', 'M6J', 'West Toronto', 'Little Portugal', 'M6J', 'West Toronto', 'Trinity', 'M7J', 'Not assigned', 'Not assigned', 'M8J', 'Not assigned', 'Not assigned', 'M9J', 'Not assigned', 'Not assigned', 'M1K', 'Scarborough', 'East Birchmount Park', 'M1K', 'Scarborough', 'Ionview', 'M1K', 'Scarborough', 'Kennedy Park', 'M2K', 'North York', 'Bayview Village', 'M3K', 'North York', 'CFB Toronto', 'M3K', 'North York', 'Downsview East', 'M4K', 'East Toronto', 'The Danforth West', 'M4K', 'East Toronto', 'Riverdale', 'M5K', 'Downtown Toronto', 'Design Exchange', 'M5K', 'Downtown Toronto', 'Toronto Dominion Centre', 'M6K', 'West Toronto', 'Brockton', 'M6K', 'West Toronto', 'Exhibition Place', 'M6K', 'West Toronto', 'Parkdale Village', 'M7K', 'Not assigned', 'Not assigned', 'M8K', 'Not assigned', 'Not assigned', 'M9K', 'Not assigned', 'Not assigned', 'M1L', 'Scarborough', 'Clairlea', 'M1L', 'Scarborough', 'Golden Mile', 'M1L', 'Scarborough', 'Oakridge', 'M2L', 'North York', 'Silver Hills', 'M2L', 'North York', 'York Mills', 'M3L', 'North York', 'Downsview West', 'M4L', 'East Toronto', 'The Beaches West', 'M4L', 'East Toronto', 'India Bazaar', 'M5L', 'Downtown Toronto', 'Commerce Court', 'M5L', 'Downtown Toronto', 'Victoria Hotel', 'M6L', 'North York', 'Downsview', 'M6L', 'North York', 'North Park', 'M6L', 'North York', 'Upwood Park', 'M7L', 'Not assigned', 'Not assigned', 'M8L', 'Not assigned', 'Not assigned', 'M9L', 'North York', 'Humber Summit', 'M1M', 'Scarborough', 'Cliffcrest', 'M1M', 'Scarborough', 'Cliffside', 'M1M', 'Scarborough', 'Scarborough Village West', 'M2M', 'North York', 'Newtonbrook', 'M2M', 'North York', 'Willowdale', 'M3M', 'North York', 'Downsview Central', 'M4M', 'East Toronto', 'Studio District', 'M5M', 'North York', 'Bedford Park', 'M5M', 'North York', 'Lawrence Manor East', 'M6M', 'York', 'Del Ray', 'M6M', 'York', 'Keelesdale', 'M6M', 'York', 'Mount Dennis', 'M6M', 'York', 'Silverthorn', 'M7M', 'Not assigned', 'Not assigned', 'M8M', 'Not assigned', 'Not assigned', 'M9M', 'North York', 'Emery', 'M9M', 'North York', 'Humberlea', 'M1N', 'Scarborough', 'Birch Cliff', 'M1N', 'Scarborough', 'Cliffside West', 'M2N', 'North York', 'Willowdale South', 'M3N', 'North York', 'Downsview Northwest', 'M4N', 'Central Toronto', 'Lawrence Park', 'M5N', 'Central Toronto', 'Roselawn', 'M6N', 'York', 'The Junction North', 'M6N', 'York', 'Runnymede', 'M7N', 'Not assigned', 'Not assigned', 'M8N', 'Not assigned', 'Not assigned', 'M9N', 'York', 'Weston', 'M1P', 'Scarborough', 'Dorset Park', 'M1P', 'Scarborough', 'Scarborough Town Centre', 'M1P', 'Scarborough', 'Wexford Heights', 'M2P', 'North York', 'York Mills West', 'M3P', 'Not assigned', 'Not assigned', 'M4P', 'Central Toronto', 'Davisville North', 'M5P', 'Central Toronto', 'Forest Hill North', 'M5P', 'Central Toronto', 'Forest Hill West', 'M6P', 'West Toronto', 'High Park', 'M6P', 'West Toronto', 'The Junction South', 'M7P', 'Not assigned', 'Not assigned', 'M8P', 'Not assigned', 'Not assigned', 'M9P', 'Etobicoke', 'Westmount', 'M1R', 'Scarborough', 'Maryvale', 'M1R', 'Scarborough', 'Wexford', 'M2R', 'North York', 'Willowdale West', 'M3R', 'Not assigned', 'Not assigned', 'M4R', 'Central Toronto', 'North Toronto West', 'M5R', 'Central Toronto', 'The Annex', 'M5R', 'Central Toronto', 'North Midtown', 'M5R', 'Central Toronto', 'Yorkville', 'M6R', 'West Toronto', 'Parkdale', 'M6R', 'West Toronto', 'Roncesvalles', 'M7R', 'Mississauga', 'Canada Post Gateway Processing Centre', 'M8R', 'Not assigned', 'Not assigned', 'M9R', 'Etobicoke', 'Kingsview Village', 'M9R', 'Etobicoke', 'Martin Grove Gardens', 'M9R', 'Etobicoke', 'Richview Gardens', 'M9R', 'Etobicoke', 'St. Phillips', 'M1S', 'Scarborough', 'Agincourt', 'M2S', 'Not assigned', 'Not assigned', 'M3S', 'Not assigned', 'Not assigned', 'M4S', 'Central Toronto', 'Davisville', 'M5S', 'Downtown Toronto', 'Harbord', 'M5S', 'Downtown Toronto', 'University of Toronto', 'M6S', 'West Toronto', 'Runnymede', 'M6S', 'West Toronto', 'Swansea', 'M7S', 'Not assigned', 'Not assigned', 'M8S', 'Not assigned', 'Not assigned', 'M9S', 'Not assigned', 'Not assigned', 'M1T', 'Scarborough', 'Clarks Corners', 'M1T', 'Scarborough', 'Sullivan', 'M1T', 'Scarborough', \"Tam O'Shanter\", 'M2T', 'Not assigned', 'Not assigned', 'M3T', 'Not assigned', 'Not assigned', 'M4T', 'Central Toronto', 'Moore Park', 'M4T', 'Central Toronto', 'Summerhill East', 'M5T', 'Downtown Toronto', 'Chinatown', 'M5T', 'Downtown Toronto', 'Grange Park', 'M5T', 'Downtown Toronto', 'Kensington Market', 'M6T', 'Not assigned', 'Not assigned', 'M7T', 'Not assigned', 'Not assigned', 'M8T', 'Not assigned', 'Not assigned', 'M9T', 'Not assigned', 'Not assigned', 'M1V', 'Scarborough', 'Agincourt North', 'M1V', 'Scarborough', \"L'Amoreaux East\", 'M1V', 'Scarborough', 'Milliken', 'M1V', 'Scarborough', 'Steeles East', 'M2V', 'Not assigned', 'Not assigned', 'M3V', 'Not assigned', 'Not assigned', 'M4V', 'Central Toronto', 'Deer Park', 'M4V', 'Central Toronto', 'Forest Hill SE', 'M4V', 'Central Toronto', 'Rathnelly', 'M4V', 'Central Toronto', 'South Hill', 'M4V', 'Central Toronto', 'Summerhill West', 'M5V', 'Downtown Toronto', 'CN Tower', 'M5V', 'Downtown Toronto', 'Bathurst Quay', 'M5V', 'Downtown Toronto', 'Island airport', 'M5V', 'Downtown Toronto', 'Harbourfront West', 'M5V', 'Downtown Toronto', 'King and Spadina', 'M5V', 'Downtown Toronto', 'Railway Lands', 'M5V', 'Downtown Toronto', 'South Niagara', 'M6V', 'Not assigned', 'Not assigned', 'M7V', 'Not assigned', 'Not assigned', 'M8V', 'Etobicoke', 'Humber Bay Shores', 'M8V', 'Etobicoke', 'Mimico South', 'M8V', 'Etobicoke', 'New Toronto', 'M9V', 'Etobicoke', 'Albion Gardens', 'M9V', 'Etobicoke', 'Beaumond Heights', 'M9V', 'Etobicoke', 'Humbergate', 'M9V', 'Etobicoke', 'Jamestown', 'M9V', 'Etobicoke', 'Mount Olive', 'M9V', 'Etobicoke', 'Silverstone', 'M9V', 'Etobicoke', 'South Steeles', 'M9V', 'Etobicoke', 'Thistletown', 'M1W', 'Scarborough', \"L'Amoreaux West\", 'M2W', 'Not assigned', 'Not assigned', 'M3W', 'Not assigned', 'Not assigned', 'M4W', 'Downtown Toronto', 'Rosedale', 'M5W', 'Downtown Toronto', 'Stn A PO Boxes 25 The Esplanade', 'M6W', 'Not assigned', 'Not assigned', 'M7W', 'Not assigned', 'Not assigned', 'M8W', 'Etobicoke', 'Alderwood', 'M8W', 'Etobicoke', 'Long Branch', 'M9W', 'Etobicoke', 'Northwest', 'M1X', 'Scarborough', 'Upper Rouge', 'M2X', 'Not assigned', 'Not assigned', 'M3X', 'Not assigned', 'Not assigned', 'M4X', 'Downtown Toronto', 'Cabbagetown', 'M4X', 'Downtown Toronto', 'St. James Town', 'M5X', 'Downtown Toronto', 'First Canadian Place', 'M5X', 'Downtown Toronto', 'Underground city', 'M6X', 'Not assigned', 'Not assigned', 'M7X', 'Not assigned', 'Not assigned', 'M8X', 'Etobicoke', 'The Kingsway', 'M8X', 'Etobicoke', 'Montgomery Road', 'M8X', 'Etobicoke', 'Old Mill North', 'M9X', 'Not assigned', 'Not assigned', 'M1Y', 'Not assigned', 'Not assigned', 'M2Y', 'Not assigned', 'Not assigned', 'M3Y', 'Not assigned', 'Not assigned', 'M4Y', 'Downtown Toronto', 'Church and Wellesley', 'M5Y', 'Not assigned', 'Not assigned', 'M6Y', 'Not assigned', 'Not assigned', 'M7Y', 'East Toronto', 'Business Reply Mail Processing Centre 969 Eastern', 'M8Y', 'Etobicoke', 'Humber Bay', 'M8Y', 'Etobicoke', \"King's Mill Park\", 'M8Y', 'Etobicoke', 'Kingsway Park South East', 'M8Y', 'Etobicoke', 'Mimico NE', 'M8Y', 'Etobicoke', 'Old Mill South', 'M8Y', 'Etobicoke', 'The Queensway East', 'M8Y', 'Etobicoke', 'Royal York South East', 'M8Y', 'Etobicoke', 'Sunnylea', 'M9Y', 'Not assigned', 'Not assigned', 'M1Z', 'Not assigned', 'Not assigned', 'M2Z', 'Not assigned', 'Not assigned', 'M3Z', 'Not assigned', 'Not assigned', 'M4Z', 'Not assigned', 'Not assigned', 'M5Z', 'Not assigned', 'Not assigned', 'M6Z', 'Not assigned', 'Not assigned', 'M7Z', 'Not assigned', 'Not assigned', 'M8Z', 'Etobicoke', 'Kingsway Park South West', 'M8Z', 'Etobicoke', 'Mimico NW', 'M8Z', 'Etobicoke', 'The Queensway West', 'M8Z', 'Etobicoke', 'Royal York South West', 'M8Z', 'Etobicoke', 'South of Bloor', 'M9Z', 'Not assigned', 'Not assigned']\n"
     ]
    }
   ],
   "source": [
    "mytable=soup.find(\"table\", {\"class\": \"wikitable sortable\"})\n",
    "data = mytable.tbody.find_all(\"tr\") \n",
    "table_data=[]\n",
    "for i in range(1,len(data)):\n",
    "    for td in data[i].find_all(\"td\"):\n",
    "        table_data.append(td.text.strip())\n",
    "\n",
    "\n",
    "print(table_data)"
   ]
  },
  {
   "cell_type": "markdown",
   "metadata": {},
   "source": [
    "Seperating The Postal Code,Borough and Neighbours in to 3 different list"
   ]
  },
  {
   "cell_type": "code",
   "execution_count": 3,
   "metadata": {},
   "outputs": [],
   "source": [
    "Postalcode=[]\n",
    "Borough=[]\n",
    "Neighbourhood=[]\n",
    "for i in range(0,len(table_data),3):\n",
    "    Postalcode.append(table_data[i])\n",
    "    Borough.append(table_data[i+1])\n",
    "    Neighbourhood.append(table_data[i+2])\n",
    "               "
   ]
  },
  {
   "cell_type": "markdown",
   "metadata": {},
   "source": [
    "Forming the DataFrame as asked in the assignment"
   ]
  },
  {
   "cell_type": "code",
   "execution_count": 4,
   "metadata": {},
   "outputs": [
    {
     "name": "stdout",
     "output_type": "stream",
     "text": [
      "    PostalCode       Borough           Neighborhood\n",
      "282        M8Z     Etobicoke              Mimico NW\n",
      "283        M8Z     Etobicoke     The Queensway West\n",
      "284        M8Z     Etobicoke  Royal York South West\n",
      "285        M8Z     Etobicoke         South of Bloor\n",
      "286        M9Z  Not assigned           Not assigned\n"
     ]
    }
   ],
   "source": [
    "d={'PostalCode':Postalcode,'Borough':Borough,'Neighborhood':Neighbourhood}\n",
    "df=pd.DataFrame(data=d)\n",
    "print(df.tail())"
   ]
  },
  {
   "cell_type": "markdown",
   "metadata": {},
   "source": [
    "Ignoring the Not assigned Borough"
   ]
  },
  {
   "cell_type": "code",
   "execution_count": 5,
   "metadata": {},
   "outputs": [
    {
     "data": {
      "text/html": [
       "<div>\n",
       "<style scoped>\n",
       "    .dataframe tbody tr th:only-of-type {\n",
       "        vertical-align: middle;\n",
       "    }\n",
       "\n",
       "    .dataframe tbody tr th {\n",
       "        vertical-align: top;\n",
       "    }\n",
       "\n",
       "    .dataframe thead th {\n",
       "        text-align: right;\n",
       "    }\n",
       "</style>\n",
       "<table border=\"1\" class=\"dataframe\">\n",
       "  <thead>\n",
       "    <tr style=\"text-align: right;\">\n",
       "      <th></th>\n",
       "      <th>PostalCode</th>\n",
       "      <th>Borough</th>\n",
       "      <th>Neighborhood</th>\n",
       "    </tr>\n",
       "  </thead>\n",
       "  <tbody>\n",
       "    <tr>\n",
       "      <th>2</th>\n",
       "      <td>M3A</td>\n",
       "      <td>North York</td>\n",
       "      <td>Parkwoods</td>\n",
       "    </tr>\n",
       "    <tr>\n",
       "      <th>3</th>\n",
       "      <td>M4A</td>\n",
       "      <td>North York</td>\n",
       "      <td>Victoria Village</td>\n",
       "    </tr>\n",
       "    <tr>\n",
       "      <th>4</th>\n",
       "      <td>M5A</td>\n",
       "      <td>Downtown Toronto</td>\n",
       "      <td>Harbourfront</td>\n",
       "    </tr>\n",
       "    <tr>\n",
       "      <th>5</th>\n",
       "      <td>M6A</td>\n",
       "      <td>North York</td>\n",
       "      <td>Lawrence Heights</td>\n",
       "    </tr>\n",
       "    <tr>\n",
       "      <th>6</th>\n",
       "      <td>M6A</td>\n",
       "      <td>North York</td>\n",
       "      <td>Lawrence Manor</td>\n",
       "    </tr>\n",
       "  </tbody>\n",
       "</table>\n",
       "</div>"
      ],
      "text/plain": [
       "  PostalCode           Borough      Neighborhood\n",
       "2        M3A        North York         Parkwoods\n",
       "3        M4A        North York  Victoria Village\n",
       "4        M5A  Downtown Toronto      Harbourfront\n",
       "5        M6A        North York  Lawrence Heights\n",
       "6        M6A        North York    Lawrence Manor"
      ]
     },
     "execution_count": 5,
     "metadata": {},
     "output_type": "execute_result"
    }
   ],
   "source": [
    "df.drop(df[df['Borough']=='Not assigned'].index,inplace=True)\n",
    "df.head()"
   ]
  },
  {
   "cell_type": "markdown",
   "metadata": {},
   "source": [
    "Combining the rows with the same PostalCode "
   ]
  },
  {
   "cell_type": "code",
   "execution_count": 6,
   "metadata": {},
   "outputs": [
    {
     "data": {
      "text/html": [
       "<div>\n",
       "<style scoped>\n",
       "    .dataframe tbody tr th:only-of-type {\n",
       "        vertical-align: middle;\n",
       "    }\n",
       "\n",
       "    .dataframe tbody tr th {\n",
       "        vertical-align: top;\n",
       "    }\n",
       "\n",
       "    .dataframe thead th {\n",
       "        text-align: right;\n",
       "    }\n",
       "</style>\n",
       "<table border=\"1\" class=\"dataframe\">\n",
       "  <thead>\n",
       "    <tr style=\"text-align: right;\">\n",
       "      <th></th>\n",
       "      <th>PostalCode</th>\n",
       "      <th>Borough</th>\n",
       "      <th>Neighborhood</th>\n",
       "    </tr>\n",
       "  </thead>\n",
       "  <tbody>\n",
       "    <tr>\n",
       "      <th>0</th>\n",
       "      <td>M1B</td>\n",
       "      <td>Scarborough</td>\n",
       "      <td>Rouge, Malvern</td>\n",
       "    </tr>\n",
       "    <tr>\n",
       "      <th>1</th>\n",
       "      <td>M1C</td>\n",
       "      <td>Scarborough</td>\n",
       "      <td>Highland Creek, Rouge Hill, Port Union</td>\n",
       "    </tr>\n",
       "    <tr>\n",
       "      <th>2</th>\n",
       "      <td>M1E</td>\n",
       "      <td>Scarborough</td>\n",
       "      <td>Guildwood, Morningside, West Hill</td>\n",
       "    </tr>\n",
       "    <tr>\n",
       "      <th>3</th>\n",
       "      <td>M1G</td>\n",
       "      <td>Scarborough</td>\n",
       "      <td>Woburn</td>\n",
       "    </tr>\n",
       "    <tr>\n",
       "      <th>4</th>\n",
       "      <td>M1H</td>\n",
       "      <td>Scarborough</td>\n",
       "      <td>Cedarbrae</td>\n",
       "    </tr>\n",
       "  </tbody>\n",
       "</table>\n",
       "</div>"
      ],
      "text/plain": [
       "  PostalCode      Borough                            Neighborhood\n",
       "0        M1B  Scarborough                          Rouge, Malvern\n",
       "1        M1C  Scarborough  Highland Creek, Rouge Hill, Port Union\n",
       "2        M1E  Scarborough       Guildwood, Morningside, West Hill\n",
       "3        M1G  Scarborough                                  Woburn\n",
       "4        M1H  Scarborough                               Cedarbrae"
      ]
     },
     "execution_count": 6,
     "metadata": {},
     "output_type": "execute_result"
    }
   ],
   "source": [
    "df = df.groupby('PostalCode').agg({'Borough':'first', \n",
    "                             'Neighborhood': ', '.join}).reset_index()\n",
    "df.head()"
   ]
  },
  {
   "cell_type": "markdown",
   "metadata": {},
   "source": [
    "Assigning Not assigned Neighborhood to the corresponding Borough values"
   ]
  },
  {
   "cell_type": "code",
   "execution_count": 7,
   "metadata": {},
   "outputs": [
    {
     "data": {
      "text/html": [
       "<div>\n",
       "<style scoped>\n",
       "    .dataframe tbody tr th:only-of-type {\n",
       "        vertical-align: middle;\n",
       "    }\n",
       "\n",
       "    .dataframe tbody tr th {\n",
       "        vertical-align: top;\n",
       "    }\n",
       "\n",
       "    .dataframe thead th {\n",
       "        text-align: right;\n",
       "    }\n",
       "</style>\n",
       "<table border=\"1\" class=\"dataframe\">\n",
       "  <thead>\n",
       "    <tr style=\"text-align: right;\">\n",
       "      <th></th>\n",
       "      <th>PostalCode</th>\n",
       "      <th>Borough</th>\n",
       "      <th>Neighborhood</th>\n",
       "    </tr>\n",
       "  </thead>\n",
       "  <tbody>\n",
       "    <tr>\n",
       "      <th>0</th>\n",
       "      <td>M1B</td>\n",
       "      <td>Scarborough</td>\n",
       "      <td>Rouge, Malvern</td>\n",
       "    </tr>\n",
       "    <tr>\n",
       "      <th>1</th>\n",
       "      <td>M1C</td>\n",
       "      <td>Scarborough</td>\n",
       "      <td>Highland Creek, Rouge Hill, Port Union</td>\n",
       "    </tr>\n",
       "    <tr>\n",
       "      <th>2</th>\n",
       "      <td>M1E</td>\n",
       "      <td>Scarborough</td>\n",
       "      <td>Guildwood, Morningside, West Hill</td>\n",
       "    </tr>\n",
       "    <tr>\n",
       "      <th>3</th>\n",
       "      <td>M1G</td>\n",
       "      <td>Scarborough</td>\n",
       "      <td>Woburn</td>\n",
       "    </tr>\n",
       "    <tr>\n",
       "      <th>4</th>\n",
       "      <td>M1H</td>\n",
       "      <td>Scarborough</td>\n",
       "      <td>Cedarbrae</td>\n",
       "    </tr>\n",
       "  </tbody>\n",
       "</table>\n",
       "</div>"
      ],
      "text/plain": [
       "  PostalCode      Borough                            Neighborhood\n",
       "0        M1B  Scarborough                          Rouge, Malvern\n",
       "1        M1C  Scarborough  Highland Creek, Rouge Hill, Port Union\n",
       "2        M1E  Scarborough       Guildwood, Morningside, West Hill\n",
       "3        M1G  Scarborough                                  Woburn\n",
       "4        M1H  Scarborough                               Cedarbrae"
      ]
     },
     "execution_count": 7,
     "metadata": {},
     "output_type": "execute_result"
    }
   ],
   "source": [
    "import numpy\n",
    "df['Neighborhood']=np.where(df['Neighborhood']=='Not assigned',df['Borough'],df['Neighborhood'])\n",
    "df.head()"
   ]
  },
  {
   "cell_type": "markdown",
   "metadata": {},
   "source": [
    "Describing the data"
   ]
  },
  {
   "cell_type": "code",
   "execution_count": 8,
   "metadata": {},
   "outputs": [
    {
     "data": {
      "text/html": [
       "<div>\n",
       "<style scoped>\n",
       "    .dataframe tbody tr th:only-of-type {\n",
       "        vertical-align: middle;\n",
       "    }\n",
       "\n",
       "    .dataframe tbody tr th {\n",
       "        vertical-align: top;\n",
       "    }\n",
       "\n",
       "    .dataframe thead th {\n",
       "        text-align: right;\n",
       "    }\n",
       "</style>\n",
       "<table border=\"1\" class=\"dataframe\">\n",
       "  <thead>\n",
       "    <tr style=\"text-align: right;\">\n",
       "      <th></th>\n",
       "      <th>PostalCode</th>\n",
       "      <th>Borough</th>\n",
       "      <th>Neighborhood</th>\n",
       "    </tr>\n",
       "  </thead>\n",
       "  <tbody>\n",
       "    <tr>\n",
       "      <th>count</th>\n",
       "      <td>103</td>\n",
       "      <td>103</td>\n",
       "      <td>103</td>\n",
       "    </tr>\n",
       "    <tr>\n",
       "      <th>unique</th>\n",
       "      <td>103</td>\n",
       "      <td>11</td>\n",
       "      <td>102</td>\n",
       "    </tr>\n",
       "    <tr>\n",
       "      <th>top</th>\n",
       "      <td>M4V</td>\n",
       "      <td>North York</td>\n",
       "      <td>Queen's Park</td>\n",
       "    </tr>\n",
       "    <tr>\n",
       "      <th>freq</th>\n",
       "      <td>1</td>\n",
       "      <td>24</td>\n",
       "      <td>2</td>\n",
       "    </tr>\n",
       "  </tbody>\n",
       "</table>\n",
       "</div>"
      ],
      "text/plain": [
       "       PostalCode     Borough  Neighborhood\n",
       "count         103         103           103\n",
       "unique        103          11           102\n",
       "top           M4V  North York  Queen's Park\n",
       "freq            1          24             2"
      ]
     },
     "execution_count": 8,
     "metadata": {},
     "output_type": "execute_result"
    }
   ],
   "source": [
    "df.describe()"
   ]
  },
  {
   "cell_type": "code",
   "execution_count": 9,
   "metadata": {},
   "outputs": [
    {
     "name": "stdout",
     "output_type": "stream",
     "text": [
      "Requirement already satisfied: geocoder in c:\\users\\ayush\\anaconda3\\lib\\site-packages (1.38.1)\n",
      "Requirement already satisfied: future in c:\\users\\ayush\\anaconda3\\lib\\site-packages (from geocoder) (0.17.1)\n",
      "Requirement already satisfied: requests in c:\\users\\ayush\\anaconda3\\lib\\site-packages (from geocoder) (2.22.0)\n",
      "Requirement already satisfied: click in c:\\users\\ayush\\anaconda3\\lib\\site-packages (from geocoder) (7.0)\n",
      "Requirement already satisfied: ratelim in c:\\users\\ayush\\anaconda3\\lib\\site-packages (from geocoder) (0.1.6)\n",
      "Requirement already satisfied: six in c:\\users\\ayush\\anaconda3\\lib\\site-packages (from geocoder) (1.12.0)\n",
      "Requirement already satisfied: certifi>=2017.4.17 in c:\\users\\ayush\\anaconda3\\lib\\site-packages (from requests->geocoder) (2019.6.16)\n",
      "Requirement already satisfied: chardet<3.1.0,>=3.0.2 in c:\\users\\ayush\\anaconda3\\lib\\site-packages (from requests->geocoder) (3.0.4)\n",
      "Requirement already satisfied: urllib3!=1.25.0,!=1.25.1,<1.26,>=1.21.1 in c:\\users\\ayush\\anaconda3\\lib\\site-packages (from requests->geocoder) (1.24.2)\n",
      "Requirement already satisfied: idna<2.9,>=2.5 in c:\\users\\ayush\\anaconda3\\lib\\site-packages (from requests->geocoder) (2.8)\n",
      "Requirement already satisfied: decorator in c:\\users\\ayush\\anaconda3\\lib\\site-packages (from ratelim->geocoder) (4.4.0)\n",
      "Note: you may need to restart the kernel to use updated packages.\n"
     ]
    }
   ],
   "source": [
    "pip install geocoder"
   ]
  },
  {
   "cell_type": "markdown",
   "metadata": {},
   "source": [
    "GeoCoder library not responding so using the external dataset"
   ]
  },
  {
   "cell_type": "code",
   "execution_count": 10,
   "metadata": {},
   "outputs": [
    {
     "data": {
      "text/plain": [
       "'import geocoder # import geocoder\\n\\n# initialize your variable to None\\nlat_lng_coords = None\\n\\n# loop until you get the coordinates\\nwhile(lat_lng_coords is None):\\n  g = geocoder.google(Postalcode[0]) \\n  lat_lng_coords = g.latlng\\n\\nlatitude = lat_lng_coords[0]\\nlongitude = lat_lng_coords[1]'"
      ]
     },
     "execution_count": 10,
     "metadata": {},
     "output_type": "execute_result"
    }
   ],
   "source": [
    "'''import geocoder # import geocoder\n",
    "\n",
    "# initialize your variable to None\n",
    "lat_lng_coords = None\n",
    "\n",
    "# loop until you get the coordinates\n",
    "while(lat_lng_coords is None):\n",
    "  g = geocoder.google(Postalcode[0]) \n",
    "  lat_lng_coords = g.latlng\n",
    "\n",
    "latitude = lat_lng_coords[0]\n",
    "longitude = lat_lng_coords[1]'''"
   ]
  },
  {
   "cell_type": "markdown",
   "metadata": {},
   "source": [
    "Using the external latitude-longitude dataset and forming the Toronto dataframe with latitiude and longitude."
   ]
  },
  {
   "cell_type": "code",
   "execution_count": 12,
   "metadata": {},
   "outputs": [
    {
     "name": "stdout",
     "output_type": "stream",
     "text": [
      "         Latitude   Longitude\n",
      "count  103.000000  103.000000\n",
      "mean    43.704608  -79.397153\n",
      "std      0.052463    0.097146\n",
      "min     43.602414  -79.615819\n",
      "25%     43.660567  -79.464763\n",
      "50%     43.696948  -79.388790\n",
      "75%     43.745320  -79.340923\n",
      "max     43.836125  -79.160497\n"
     ]
    },
    {
     "data": {
      "text/html": [
       "<div>\n",
       "<style scoped>\n",
       "    .dataframe tbody tr th:only-of-type {\n",
       "        vertical-align: middle;\n",
       "    }\n",
       "\n",
       "    .dataframe tbody tr th {\n",
       "        vertical-align: top;\n",
       "    }\n",
       "\n",
       "    .dataframe thead th {\n",
       "        text-align: right;\n",
       "    }\n",
       "</style>\n",
       "<table border=\"1\" class=\"dataframe\">\n",
       "  <thead>\n",
       "    <tr style=\"text-align: right;\">\n",
       "      <th></th>\n",
       "      <th>PostalCode</th>\n",
       "      <th>Borough</th>\n",
       "      <th>Neighborhood</th>\n",
       "      <th>Postal Code</th>\n",
       "      <th>Latitude</th>\n",
       "      <th>Longitude</th>\n",
       "    </tr>\n",
       "  </thead>\n",
       "  <tbody>\n",
       "    <tr>\n",
       "      <th>0</th>\n",
       "      <td>M1B</td>\n",
       "      <td>Scarborough</td>\n",
       "      <td>Rouge, Malvern</td>\n",
       "      <td>M1B</td>\n",
       "      <td>43.806686</td>\n",
       "      <td>-79.194353</td>\n",
       "    </tr>\n",
       "    <tr>\n",
       "      <th>1</th>\n",
       "      <td>M1C</td>\n",
       "      <td>Scarborough</td>\n",
       "      <td>Highland Creek, Rouge Hill, Port Union</td>\n",
       "      <td>M1C</td>\n",
       "      <td>43.784535</td>\n",
       "      <td>-79.160497</td>\n",
       "    </tr>\n",
       "    <tr>\n",
       "      <th>2</th>\n",
       "      <td>M1E</td>\n",
       "      <td>Scarborough</td>\n",
       "      <td>Guildwood, Morningside, West Hill</td>\n",
       "      <td>M1E</td>\n",
       "      <td>43.763573</td>\n",
       "      <td>-79.188711</td>\n",
       "    </tr>\n",
       "    <tr>\n",
       "      <th>3</th>\n",
       "      <td>M1G</td>\n",
       "      <td>Scarborough</td>\n",
       "      <td>Woburn</td>\n",
       "      <td>M1G</td>\n",
       "      <td>43.770992</td>\n",
       "      <td>-79.216917</td>\n",
       "    </tr>\n",
       "    <tr>\n",
       "      <th>4</th>\n",
       "      <td>M1H</td>\n",
       "      <td>Scarborough</td>\n",
       "      <td>Cedarbrae</td>\n",
       "      <td>M1H</td>\n",
       "      <td>43.773136</td>\n",
       "      <td>-79.239476</td>\n",
       "    </tr>\n",
       "  </tbody>\n",
       "</table>\n",
       "</div>"
      ],
      "text/plain": [
       "  PostalCode      Borough                            Neighborhood Postal Code  \\\n",
       "0        M1B  Scarborough                          Rouge, Malvern         M1B   \n",
       "1        M1C  Scarborough  Highland Creek, Rouge Hill, Port Union         M1C   \n",
       "2        M1E  Scarborough       Guildwood, Morningside, West Hill         M1E   \n",
       "3        M1G  Scarborough                                  Woburn         M1G   \n",
       "4        M1H  Scarborough                               Cedarbrae         M1H   \n",
       "\n",
       "    Latitude  Longitude  \n",
       "0  43.806686 -79.194353  \n",
       "1  43.784535 -79.160497  \n",
       "2  43.763573 -79.188711  \n",
       "3  43.770992 -79.216917  \n",
       "4  43.773136 -79.239476  "
      ]
     },
     "execution_count": 12,
     "metadata": {},
     "output_type": "execute_result"
    }
   ],
   "source": [
    "df_coord=pd.read_csv('Geospatial_Coordinates.csv')\n",
    "df\n",
    "merge_df = pd.merge(left=df,right=df_coord, left_on='PostalCode', right_on='Postal Code')\n",
    "merge_df.drop('Postal Code',axis=1)\n",
    "print(merge_df.describe())\n",
    "merge_df.head()"
   ]
  },
  {
   "cell_type": "code",
   "execution_count": null,
   "metadata": {},
   "outputs": [],
   "source": []
  }
 ],
 "metadata": {
  "kernelspec": {
   "display_name": "Python 3",
   "language": "python",
   "name": "python3"
  },
  "language_info": {
   "codemirror_mode": {
    "name": "ipython",
    "version": 3
   },
   "file_extension": ".py",
   "mimetype": "text/x-python",
   "name": "python",
   "nbconvert_exporter": "python",
   "pygments_lexer": "ipython3",
   "version": "3.7.3"
  }
 },
 "nbformat": 4,
 "nbformat_minor": 2
}
